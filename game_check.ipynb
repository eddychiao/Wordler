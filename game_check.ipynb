{
 "cells": [
  {
   "cell_type": "code",
   "execution_count": null,
   "id": "3fa8ebc4",
   "metadata": {},
   "outputs": [],
   "source": [
    "import game\n",
    "import utils\n",
    "import recommender"
   ]
  },
  {
   "cell_type": "code",
   "execution_count": null,
   "id": "2bfeb4a5",
   "metadata": {},
   "outputs": [],
   "source": [
    "word_file = 'wordle-words.txt'\n",
    "word_list = utils.listify(word_file)\n",
    "game.generate_word(word_list)"
   ]
  },
  {
   "cell_type": "code",
   "execution_count": null,
   "id": "9a6ee92d",
   "metadata": {},
   "outputs": [],
   "source": [
    "# TEST SCENARIO 1\n",
    "\n",
    "sample_actual = 'erase'\n",
    "sample_guess = 'resee'\n",
    "res_list = game.get_match(sample_guess, sample_actual)\n",
    "print(game.return_squares(res_list))"
   ]
  },
  {
   "cell_type": "code",
   "execution_count": null,
   "id": "c675817c",
   "metadata": {},
   "outputs": [],
   "source": [
    "# TEST SCENARIO 2\n",
    "\n",
    "sample_actual = 'oetry'\n",
    "sample_guess = 'retro'\n",
    "res_list = game.get_match(sample_guess, sample_actual)\n",
    "print(game.return_squares(res_list))"
   ]
  },
  {
   "cell_type": "markdown",
   "id": "476fb912",
   "metadata": {},
   "source": [
    "## TEST GAME HERE"
   ]
  },
  {
   "cell_type": "code",
   "execution_count": 1,
   "id": "d44f526f",
   "metadata": {},
   "outputs": [
    {
     "name": "stdout",
     "output_type": "stream",
     "text": [
      "Guess a 5-letter word: sense\n",
      "[('s', 'y'), ('e', 'n'), ('n', 'n'), ('s', 'n'), ('e', 'n')]\n",
      "🟩⬛️⬛️⬛️⬛️\n",
      "Guesses used:  1\n",
      "Guess a 5-letter word: start\n",
      "[('s', 'y'), ('t', 'n'), ('a', 'm'), ('r', 'n'), ('t', 'n')]\n",
      "🟩⬛️🟨⬛️⬛️\n",
      "Guesses used:  2\n",
      "Guess a 5-letter word: salad\n",
      "[('s', 'y'), ('a', 'y'), ('l', 'y'), ('a', 'n'), ('d', 'n')]\n",
      "🟩🟩🟩⬛️⬛️\n",
      "Guesses used:  3\n",
      "Guess a 5-letter word: sally\n",
      "[('s', 'y'), ('a', 'y'), ('l', 'y'), ('l', 'y'), ('y', 'y')]\n",
      "🟩🟩🟩🟩🟩\n",
      "Guesses used:  4\n",
      "\n",
      "\n",
      "Wordle X 4/6\n",
      "\n",
      "🟩⬛️⬛️⬛️⬛️\n",
      "🟩⬛️🟨⬛️⬛️\n",
      "🟩🟩🟩⬛️⬛️\n",
      "🟩🟩🟩🟩🟩\n",
      "\n",
      "\n",
      "Word was:  sally\n",
      "Good job!\n"
     ]
    }
   ],
   "source": [
    "import game\n",
    "import utils\n",
    "import recommender\n",
    "\n",
    "game.run_game('E')"
   ]
  },
  {
   "cell_type": "markdown",
   "id": "490a1f00",
   "metadata": {},
   "source": [
    "## TEST RECOMMENDER HERE"
   ]
  }
 ],
 "metadata": {
  "kernelspec": {
   "display_name": "Python 3 (ipykernel)",
   "language": "python",
   "name": "python3"
  },
  "language_info": {
   "codemirror_mode": {
    "name": "ipython",
    "version": 3
   },
   "file_extension": ".py",
   "mimetype": "text/x-python",
   "name": "python",
   "nbconvert_exporter": "python",
   "pygments_lexer": "ipython3",
   "version": "3.9.10"
  }
 },
 "nbformat": 4,
 "nbformat_minor": 5
}
