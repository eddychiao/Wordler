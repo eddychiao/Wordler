{
 "cells": [
  {
   "cell_type": "code",
   "execution_count": 1,
   "id": "1a44d908",
   "metadata": {},
   "outputs": [],
   "source": [
    "%load_ext autoreload\n",
    "%reload_ext autoreload"
   ]
  },
  {
   "cell_type": "code",
   "execution_count": 2,
   "id": "1ccd9423",
   "metadata": {},
   "outputs": [],
   "source": [
    "import utils\n",
    "import recommender\n",
    "\n",
    "word_file = 'wordle-words.txt'\n",
    "num_words = len(utils.listify(word_file))\n",
    "\n",
    "# all words\n",
    "word_list = utils.listify(word_file)\n",
    "unique_word_list = utils.unique_listify(word_file)\n",
    "\n",
    "sample_limit = [('s', 'n'), ('l', 'y'), ('i', 'n'), ('c', 'n'), ('k', 'n')]"
   ]
  },
  {
   "cell_type": "code",
   "execution_count": 3,
   "id": "6c2e5ffa",
   "metadata": {},
   "outputs": [
    {
     "data": {
      "text/plain": [
       "{'about': 0.000691,\n",
       " 'their': 0.000648,\n",
       " 'other': 0.000454,\n",
       " 'after': 0.000422,\n",
       " 'would': 0.000396,\n",
       " 'first': 0.000378,\n",
       " 'years': 0.000359,\n",
       " 'those': 0.000279,\n",
       " 'could': 0.000262,\n",
       " 'great': 0.000255,\n",
       " 'think': 0.000246,\n",
       " 'being': 0.000229,\n",
       " 'right': 0.000206,\n",
       " 'since': 0.000191,\n",
       " 'while': 0.000185,\n",
       " 'world': 0.000185,\n",
       " 'house': 0.000174,\n",
       " 'place': 0.000159,\n",
       " 'under': 0.000155,\n",
       " 'times': 0.000125}"
      ]
     },
     "execution_count": 3,
     "metadata": {},
     "output_type": "execute_result"
    }
   ],
   "source": [
    "limit0 = []\n",
    "list0, num_results = recommender.filter_words_nonstrict(unique_word_list, limit0)\n",
    "out0 = recommender.rank(list0)\n",
    "out0"
   ]
  },
  {
   "cell_type": "code",
   "execution_count": 4,
   "id": "d3311c50",
   "metadata": {
    "scrolled": false
   },
   "outputs": [
    {
     "data": {
      "text/plain": [
       "{'grade': 2e-05,\n",
       " 'frame': 1.2e-05,\n",
       " 'grace': 1.1e-05,\n",
       " 'brave': 6e-06,\n",
       " 'grave': 6e-06,\n",
       " 'brake': 3e-06,\n",
       " 'crane': 3e-06,\n",
       " 'drake': 3e-06,\n",
       " 'brace': 2e-06,\n",
       " 'grape': 2e-06,\n",
       " 'crave': 1e-06,\n",
       " 'craze': 1e-06,\n",
       " 'arame': 0.0,\n",
       " 'brame': 0.0,\n",
       " 'brane': 0.0,\n",
       " 'braze': 0.0,\n",
       " 'crake': 0.0,\n",
       " 'crame': 0.0,\n",
       " 'crape': 0.0,\n",
       " 'drape': 0.0}"
      ]
     },
     "execution_count": 4,
     "metadata": {},
     "output_type": "execute_result"
    }
   ],
   "source": [
    "limit1 = [('s', 'n'), ('t', 'n'), ('a', 'y'), ('r', 'm'), ('e', 'y')]\n",
    "list1, num_results = recommender.filter_words(word_list, limit1)\n",
    "out1 = recommender.rank(list1)\n",
    "out1"
   ]
  },
  {
   "cell_type": "code",
   "execution_count": 4,
   "id": "7e42547d",
   "metadata": {},
   "outputs": [
    {
     "data": {
      "text/plain": [
       "{'grade': 2e-05,\n",
       " 'frame': 1.2e-05,\n",
       " 'brave': 6e-06,\n",
       " 'grave': 6e-06,\n",
       " 'brake': 3e-06,\n",
       " 'drake': 3e-06,\n",
       " 'grape': 2e-06,\n",
       " 'arame': 0.0,\n",
       " 'brame': 0.0,\n",
       " 'braze': 0.0,\n",
       " 'drape': 0.0,\n",
       " 'drave': 0.0,\n",
       " 'frape': 0.0,\n",
       " 'grame': 0.0,\n",
       " 'graze': 0.0,\n",
       " 'irade': 0.0}"
      ]
     },
     "execution_count": 4,
     "metadata": {},
     "output_type": "execute_result"
    }
   ],
   "source": [
    "limit2 = [('c', 'n'), ('r', 'y'), ('a', 'y'), ('n', 'n'), ('e', 'y')]\n",
    "list2, num_results = recommender.filter_words(list1, limit2)\n",
    "out2 = recommender.rank(list2)\n",
    "out2"
   ]
  },
  {
   "cell_type": "code",
   "execution_count": null,
   "id": "1d1f101a",
   "metadata": {},
   "outputs": [],
   "source": [
    "limit3 = [('e', 'y'), ('l', 'y'), ('u', 'n'), ('d', 'm'), ('e', 'm')]\n",
    "list3, num_results = recommender.filter_words(list2, limit3)\n",
    "out3 = recommender.rank(list3)\n",
    "out3"
   ]
  },
  {
   "cell_type": "code",
   "execution_count": null,
   "id": "a771ba97",
   "metadata": {},
   "outputs": [],
   "source": [
    "limit4 = [('a', 'n'), ('c', 'n'), ('t', 'y'), ('o', 'y'), ('r', 'y')]\n",
    "list4, num_results = recommender.filter_words(list3, limit4)\n",
    "out4 = recommender.rank(list4)\n",
    "out4"
   ]
  },
  {
   "cell_type": "code",
   "execution_count": null,
   "id": "d0c40973",
   "metadata": {},
   "outputs": [],
   "source": [
    "limit5 = [('c', 'n'), ('a', 'n'), ('n', 'n'), ('o', 'n'), ('n', 'n')]\n",
    "list5, num_results = recommender.filter_words(list4, limit5)\n",
    "out5 = recommender.rank(list5)\n",
    "out5"
   ]
  },
  {
   "cell_type": "code",
   "execution_count": 6,
   "id": "60c1b341",
   "metadata": {},
   "outputs": [
    {
     "data": {
      "text/plain": [
       "[(1, 4), (2, 5), (3, 6)]"
      ]
     },
     "execution_count": 6,
     "metadata": {},
     "output_type": "execute_result"
    }
   ],
   "source": [
    "a = list(zip([1,2,3],[4,5,6]))\n",
    "a"
   ]
  },
  {
   "cell_type": "code",
   "execution_count": null,
   "id": "df1dfd96",
   "metadata": {},
   "outputs": [],
   "source": []
  }
 ],
 "metadata": {
  "kernelspec": {
   "display_name": "Python 3 (ipykernel)",
   "language": "python",
   "name": "python3"
  },
  "language_info": {
   "codemirror_mode": {
    "name": "ipython",
    "version": 3
   },
   "file_extension": ".py",
   "mimetype": "text/x-python",
   "name": "python",
   "nbconvert_exporter": "python",
   "pygments_lexer": "ipython3",
   "version": "3.9.10"
  }
 },
 "nbformat": 4,
 "nbformat_minor": 5
}
