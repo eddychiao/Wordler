{
 "cells": [
  {
   "cell_type": "markdown",
   "id": "d488ea36",
   "metadata": {},
   "source": [
    "# Rules\n",
    "\n",
    "Wordle gives you 6 guesses to find a mystery 5-letter word. Upon guessing, Wordle will return a color for each letter guessed in your word, each meaning something different:\n",
    "\n",
    "🟩 means this specific letter is in the correct location\n",
    "\n",
    "🟨 means this specific letter is in the word but at a different location\n",
    "\n",
    "⬛️ means this letter is not in the word at all\n",
    "\n",
    "    Note that a 🟩 or 🟨 correspond to each single occurrence, meaning that 1 of each doesn't necessarily mean that the letter occurs only once. However, if the colored blocks returned are less than the number that you guessed, then the exact occurrence is there. For example, if your guess has 2 (or more) E's, and the string returns only 1 green or 1 yellow, then we know that there is AT MOST 1 E in the actual word.\n",
    "    \n",
    "\n",
    "This Wordle recommender takes in the list of all 13k or so possible guesses and tries to recommend the best word given the grid each guess returns. For fairness, it does not consider the only 2k or so possible answers that the Wordle could be."
   ]
  },
  {
   "cell_type": "markdown",
   "id": "b1872771",
   "metadata": {},
   "source": [
    "# Imports\n",
    "\n",
    "Import all the relevant files and variable names"
   ]
  },
  {
   "cell_type": "code",
   "execution_count": 1,
   "id": "65a32d70",
   "metadata": {},
   "outputs": [],
   "source": [
    "import game\n",
    "import utils\n",
    "import recommender\n",
    "import pandas as pd\n",
    "import bit_calculation as bc\n",
    "\n",
    "words_file = 'wordle-words.txt'\n",
    "words_list = utils.listify(words_file)\n",
    "unique_words_list = utils.unique_listify(words_file)\n",
    "initial_entropy_file = 'starting_entropy.csv'\n",
    "initial_entropy_file_unique = 'starting_entropy_unique.csv'"
   ]
  },
  {
   "cell_type": "code",
   "execution_count": null,
   "id": "2ce56498",
   "metadata": {},
   "outputs": [],
   "source": [
    "# utils.freq_file(words_list)"
   ]
  },
  {
   "cell_type": "code",
   "execution_count": null,
   "id": "594fcff0",
   "metadata": {},
   "outputs": [],
   "source": [
    "# bc.freq_calc(initial_entropy_file_unique)"
   ]
  },
  {
   "cell_type": "markdown",
   "id": "4b3884c8",
   "metadata": {},
   "source": [
    "# First Guess\n",
    "\n",
    "First word that the system suggests"
   ]
  },
  {
   "cell_type": "code",
   "execution_count": 2,
   "id": "f1010402",
   "metadata": {},
   "outputs": [
    {
     "name": "stdout",
     "output_type": "stream",
     "text": [
      "['rates', 'tales', 'cares', 'tires', 'tears', 'lanes', 'tries', 'roles', 'raise', 'races']\n",
      "Wordler suggests: raise\n"
     ]
    }
   ],
   "source": [
    "print('Wordler suggests:', bc.choose_first_word(initial_entropy_file_unique))"
   ]
  },
  {
   "cell_type": "markdown",
   "id": "a77e7e96",
   "metadata": {},
   "source": [
    "# Second Guess\n",
    "\n",
    "After guessing the first word, put in string returned\n",
    "Hits = number of green squares"
   ]
  },
  {
   "cell_type": "code",
   "execution_count": 3,
   "id": "383b2728",
   "metadata": {},
   "outputs": [
    {
     "data": {
      "text/plain": [
       "797"
      ]
     },
     "execution_count": 3,
     "metadata": {},
     "output_type": "execute_result"
    }
   ],
   "source": [
    "string = 'raise'\n",
    "icons = 'nnnmm'\n",
    "hits = 0\n",
    "\n",
    "rule = game.rule_from_squares(string, icons)\n",
    "filtered_word_list, n = recommender.filter_words(words_list, rule)\n",
    "n"
   ]
  },
  {
   "cell_type": "code",
   "execution_count": 4,
   "id": "13b661f4",
   "metadata": {},
   "outputs": [
    {
     "data": {
      "text/plain": [
       "[('tones', 4.443831, 0.8909433346421394, 5.334774334642139),\n",
       " ('poles', 4.415298, 0.8996003860134083, 5.314898386013408),\n",
       " ('notes', 4.385753, 0.8999999999999999, 5.285753),\n",
       " ('slept', 4.077854, 1.1999999988593621, 5.277853998859363),\n",
       " ('onset', 4.076883, 1.1790226947800637, 5.255905694780063),\n",
       " ('poets', 4.296526, 0.8987526306412905, 5.19527863064129),\n",
       " ('posed', 3.967138, 1.1972768074331954, 5.164414807433195),\n",
       " ('tends', 4.22297, 0.8999999711650737, 5.122969971165074),\n",
       " ('setup', 3.91979, 1.1999998668352236, 5.119789866835223),\n",
       " ('spent', 3.919279, 1.2, 5.119279)]"
      ]
     },
     "execution_count": 4,
     "metadata": {},
     "output_type": "execute_result"
    }
   ],
   "source": [
    "bc.recommend(filtered_word_list, hits)"
   ]
  },
  {
   "cell_type": "markdown",
   "id": "b740ca4d",
   "metadata": {},
   "source": [
    "# Third Guess\n",
    "\n",
    "After guessing the first word, put in string returned"
   ]
  },
  {
   "cell_type": "code",
   "execution_count": 5,
   "id": "7c42abbf",
   "metadata": {},
   "outputs": [
    {
     "data": {
      "text/plain": [
       "16"
      ]
     },
     "execution_count": 5,
     "metadata": {},
     "output_type": "execute_result"
    }
   ],
   "source": [
    "string = 'tones'\n",
    "icons = 'mnnmm'\n",
    "hits = 0\n",
    "\n",
    "rule = game.rule_from_squares(string, icons)\n",
    "filtered_word_list2, n = recommender.filter_words(filtered_word_list, rule)\n",
    "n"
   ]
  },
  {
   "cell_type": "code",
   "execution_count": 6,
   "id": "b3127756",
   "metadata": {
    "scrolled": true
   },
   "outputs": [
    {
     "data": {
      "text/plain": [
       "[('slept', 3.155639, 1.1999999988593621, 4.355638998859362),\n",
       " ('swept', 3.155639, 1.1999404520130892, 4.355579452013089),\n",
       " ('setup', 2.251614, 1.1999998668352236, 3.4516138668352236),\n",
       " ('spelt', 3.155639, 0.10649940363760964, 3.2621384036376093),\n",
       " ('swelt', 3.125, 0.008905136247078983, 3.133905136247079),\n",
       " ('smelt', 2.780639, 0.04543920534566813, 2.826078205345668),\n",
       " ('spect', 2.780639, 0.012771004091548986, 2.793410004091549),\n",
       " ('stewy', 2.57782, 0.009182826463638608, 2.5870028264636384),\n",
       " ('pesty', 2.477217, 0.009134927684882433, 2.4863519276848822),\n",
       " ('stept', 4.233459, 0.00925592295007426, 2.121357461475037)]"
      ]
     },
     "execution_count": 6,
     "metadata": {},
     "output_type": "execute_result"
    }
   ],
   "source": [
    "bc.recommend(filtered_word_list2, hits)"
   ]
  },
  {
   "cell_type": "markdown",
   "id": "972def3c",
   "metadata": {},
   "source": [
    "# Fourth Guess\n",
    "\n",
    "After guessing the first word, put in string returned"
   ]
  },
  {
   "cell_type": "code",
   "execution_count": 7,
   "id": "20d84c33",
   "metadata": {},
   "outputs": [
    {
     "data": {
      "text/plain": [
       "2"
      ]
     },
     "execution_count": 7,
     "metadata": {},
     "output_type": "execute_result"
    }
   ],
   "source": [
    "string = 'slept'\n",
    "icons = 'ymyny'\n",
    "hits = 3\n",
    "\n",
    "rule = game.rule_from_squares(string, icons)\n",
    "filtered_word_list3, n = recommender.filter_words(filtered_word_list2, rule)\n",
    "n"
   ]
  },
  {
   "cell_type": "code",
   "execution_count": 8,
   "id": "85c14c85",
   "metadata": {},
   "outputs": [
    {
     "data": {
      "text/plain": [
       "[('smelt', 1.0, 0.04543920534566813, 1.045439205345668),\n",
       " ('swelt', 1.0, 0.008905136247078983, 1.008905136247079)]"
      ]
     },
     "execution_count": 8,
     "metadata": {},
     "output_type": "execute_result"
    }
   ],
   "source": [
    "bc.recommend(filtered_word_list3, hits)"
   ]
  },
  {
   "cell_type": "markdown",
   "id": "305182cc",
   "metadata": {},
   "source": [
    "# Fifth Guess\n",
    "\n",
    "After guessing the first word, put in string returned"
   ]
  },
  {
   "cell_type": "code",
   "execution_count": null,
   "id": "f1e14ce8",
   "metadata": {},
   "outputs": [],
   "source": [
    "string = 'rumen'\n",
    "icons = 'yynyn'\n",
    "hits = 3\n",
    "\n",
    "rule = game.rule_from_squares(string, icons)\n",
    "filtered_word_list4, n = recommender.filter_words(filtered_word_list3, rule)\n",
    "n"
   ]
  },
  {
   "cell_type": "code",
   "execution_count": null,
   "id": "b462ab40",
   "metadata": {},
   "outputs": [],
   "source": [
    "bc.recommend(filtered_word_list4, hits)"
   ]
  },
  {
   "cell_type": "markdown",
   "id": "9a13c9fe",
   "metadata": {},
   "source": [
    "# Sixth Guess\n",
    "\n",
    "After guessing the first word, put in string returned"
   ]
  },
  {
   "cell_type": "code",
   "execution_count": null,
   "id": "7bbb0309",
   "metadata": {},
   "outputs": [],
   "source": [
    "string = 'bluer'\n",
    "icons = 'nymyy'\n",
    "hits = 3\n",
    "\n",
    "rule = game.rule_from_squares(string, icons)\n",
    "filtered_word_list5, n = recommender.filter_words(filtered_word_list4, rule)\n",
    "n"
   ]
  },
  {
   "cell_type": "code",
   "execution_count": null,
   "id": "29f2d9c9",
   "metadata": {},
   "outputs": [],
   "source": [
    "bc.recommend(filtered_word_list5, hits)"
   ]
  },
  {
   "cell_type": "code",
   "execution_count": null,
   "id": "d0ecdfdd",
   "metadata": {},
   "outputs": [],
   "source": []
  }
 ],
 "metadata": {
  "kernelspec": {
   "display_name": "Python 3 (ipykernel)",
   "language": "python",
   "name": "python3"
  },
  "language_info": {
   "codemirror_mode": {
    "name": "ipython",
    "version": 3
   },
   "file_extension": ".py",
   "mimetype": "text/x-python",
   "name": "python",
   "nbconvert_exporter": "python",
   "pygments_lexer": "ipython3",
   "version": "3.9.10"
  }
 },
 "nbformat": 4,
 "nbformat_minor": 5
}
