{
 "cells": [
  {
   "cell_type": "code",
   "execution_count": 1,
   "id": "7cfeb3d3",
   "metadata": {},
   "outputs": [],
   "source": [
    "import utils\n",
    "import bit_calculation as bc\n",
    "\n",
    "word_file = 'wordle-words.txt'\n",
    "word_list = utils.listify(word_file)\n",
    "word = 'weary'"
   ]
  },
  {
   "cell_type": "code",
   "execution_count": null,
   "id": "d02c8b37",
   "metadata": {},
   "outputs": [],
   "source": [
    "rules_list = bc.create_rules_possibilities(word)\n",
    "bc.entropy(word, word_list, rules_list)"
   ]
  },
  {
   "cell_type": "code",
   "execution_count": null,
   "id": "3558d417",
   "metadata": {
    "scrolled": true
   },
   "outputs": [],
   "source": [
    "# bc.starting_entropy_csv(word_list)"
   ]
  },
  {
   "cell_type": "code",
   "execution_count": null,
   "id": "e6ef0457",
   "metadata": {},
   "outputs": [],
   "source": [
    "len(set(list('hello')))"
   ]
  },
  {
   "cell_type": "code",
   "execution_count": 11,
   "id": "ba20b169",
   "metadata": {},
   "outputs": [
    {
     "data": {
      "text/plain": [
       "0.10987681388704153"
      ]
     },
     "execution_count": 11,
     "metadata": {},
     "output_type": "execute_result"
    }
   ],
   "source": [
    "utils.stable_sigmoid(1.0e6, 7.88e-7)"
   ]
  },
  {
   "cell_type": "code",
   "execution_count": null,
   "id": "75d57527",
   "metadata": {},
   "outputs": [],
   "source": []
  }
 ],
 "metadata": {
  "kernelspec": {
   "display_name": "Python 3 (ipykernel)",
   "language": "python",
   "name": "python3"
  },
  "language_info": {
   "codemirror_mode": {
    "name": "ipython",
    "version": 3
   },
   "file_extension": ".py",
   "mimetype": "text/x-python",
   "name": "python",
   "nbconvert_exporter": "python",
   "pygments_lexer": "ipython3",
   "version": "3.9.10"
  }
 },
 "nbformat": 4,
 "nbformat_minor": 5
}
